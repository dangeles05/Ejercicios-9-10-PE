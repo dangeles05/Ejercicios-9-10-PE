{
 "cells": [
  {
   "cell_type": "markdown",
   "id": "4a1a5421-445d-4d29-8f72-a481be13df10",
   "metadata": {},
   "source": [
    "# Ejercicio 9\n",
    "\n",
    "**Sólo para practicar.** Los números telefónicos en la ciudad de Cuernavaca, Morelos, constan de siete dígitos.\n",
    "\n",
    "\n",
    "\n",
    "**a) ¿Cuántas líneas telefónicas pueden crearse en esa ciudad? Recuerda que no pueden comenzar con cero.**\n",
    "\n",
    "**b) Si los tres primeros dígitos representan una zona de Cuernavaca, ¿cuántas líneas telefónicas pertenecen a la zona 326?**"
   ]
  },
  {
   "cell_type": "markdown",
   "id": "38f94565-4d79-432f-9128-3c23dfe20fce",
   "metadata": {},
   "source": [
    "### Parte a) ¿Cuántas líneas telefónicas pueden crearse en esa ciudad?\n",
    "\n",
    "Los números telefónicos en Cuernavaca son de siete dígitos y no pueden comenzar con cero.  \n",
    "Por lo tanto, los posibles números telefónicos se forman por combinaciones de los dígitos del 1 al 9 para el primer dígito (porque no puede ser cero) y del 0 al 9 para los seis dígitos restantes.\n",
    "\n",
    "Para calcular el número total de líneas telefónicas posibles:\n",
    "\n",
    "- El primer dígito tiene 9 opciones (1 al 9).  \n",
    "- Cada uno de los siguientes seis dígitos tiene 10 opciones (0 al 9).  \n",
    "- Entonces, el número total de líneas telefónicas posibles se calcula como:  \n",
    "\n",
    "$$ \n",
    "\\begin{gather} \n",
    "    n = 9x10^{6}\\\\\n",
    "    \\boxed{n = 9000000}\n",
    "\\end{gather}\n",
    "$$\n",
    "\n",
    "Donde:\n",
    "\n",
    "- $9$ es el número de opciones para el primer dígito.\n",
    "- $10^6$ es el número de combinaciones para los seis dígitos restantes.  \n",
    "  \n",
    "Entonces: \n",
    "- Tenemos que el número total de líneas telefónicas posibles es de $9000000$"
   ]
  },
  {
   "cell_type": "code",
   "execution_count": 1,
   "id": "e6cf2589-eb3f-4dba-b47c-70397e664b16",
   "metadata": {},
   "outputs": [
    {
     "name": "stdout",
     "output_type": "stream",
     "text": [
      "En total, se pueden crear 9000000 lineas telefonicas en Cuernavaca\n"
     ]
    }
   ],
   "source": [
    "# Implementación de la solucion del inciso a del ejercicio 9\n",
    "\n",
    "import math\n",
    "\n",
    "n = 9 * (10 ** 6)\n",
    "print(f'En total, se pueden crear {n} lineas telefonicas en Cuernavaca')"
   ]
  },
  {
   "cell_type": "code",
   "execution_count": null,
   "id": "5eb28250-d06a-489f-9d42-bd9f2b7dfbcc",
   "metadata": {},
   "outputs": [],
   "source": []
  }
 ],
 "metadata": {
  "kernelspec": {
   "display_name": "Python 3 (ipykernel)",
   "language": "python",
   "name": "python3"
  },
  "language_info": {
   "codemirror_mode": {
    "name": "ipython",
    "version": 3
   },
   "file_extension": ".py",
   "mimetype": "text/x-python",
   "name": "python",
   "nbconvert_exporter": "python",
   "pygments_lexer": "ipython3",
   "version": "3.10.7"
  }
 },
 "nbformat": 4,
 "nbformat_minor": 5
}
