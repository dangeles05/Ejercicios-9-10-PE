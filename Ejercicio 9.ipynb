{
 "cells": [
  {
   "cell_type": "markdown",
   "id": "4a1a5421-445d-4d29-8f72-a481be13df10",
   "metadata": {},
   "source": [
    "# Ejercicio 9\n",
    "\n",
    "**Sólo para practicar.** Los números telefónicos en la ciudad de Cuernavaca, Morelos, constan de siete dígitos.\n",
    "\n",
    "\n",
    "\n",
    "**a) ¿Cuántas líneas telefónicas pueden crearse en esa ciudad? Recuerda que no pueden comenzar con cero.**\n",
    "\n",
    "**b) Si los tres primeros dígitos representan una zona de Cuernavaca, ¿cuántas líneas telefónicas pertenecen a la zona 326?**"
   ]
  },
  {
   "cell_type": "markdown",
   "id": "38f94565-4d79-432f-9128-3c23dfe20fce",
   "metadata": {},
   "source": [
    "### Parte a) ¿Cuántas líneas telefónicas pueden crearse en esa ciudad?\n",
    "\n",
    "Los números telefónicos en Cuernavaca son de siete dígitos y no pueden comenzar con cero.  \n",
    "Por lo tanto, los posibles números telefónicos se forman por combinaciones de los dígitos del 1 al 9 para el primer dígito (porque no puede ser cero) y del 0 al 9 para los seis dígitos restantes.\n",
    "\n",
    "Para calcular el número total de líneas telefónicas posibles:\n",
    "\n",
    "- El primer dígito tiene 9 opciones (1 al 9).  \n",
    "- Cada uno de los siguientes seis dígitos tiene 10 opciones (0 al 9).  \n",
    "- Entonces, el número total de líneas telefónicas posibles se calcula como:  \n",
    "\n",
    "$$ \n",
    "\\begin{gather} \n",
    "    n = 9x10^{6}\\\\\n",
    "    \\boxed{n = 9000000}\n",
    "\\end{gather}\n",
    "$$\n",
    "\n",
    "Donde:\n",
    "\n",
    "- $9$ es el número de opciones para el primer dígito.\n",
    "- $10^6$ es el número de combinaciones para los seis dígitos restantes.  \n",
    "  \n",
    "Entonces: \n",
    "- Tenemos que el número total de líneas telefónicas posibles es de $9000000$"
   ]
  },
  {
   "cell_type": "code",
   "execution_count": 1,
   "id": "e6cf2589-eb3f-4dba-b47c-70397e664b16",
   "metadata": {},
   "outputs": [
    {
     "name": "stdout",
     "output_type": "stream",
     "text": [
      "En total, se pueden crear 9000000 lineas telefonicas en Cuernavaca\n"
     ]
    }
   ],
   "source": [
    "# Implementación de la solucion del inciso a del ejercicio 9\n",
    "\n",
    "import math\n",
    "\n",
    "n = 9 * (10 ** 6)\n",
    "print(f'En total, se pueden crear {n} lineas telefonicas en Cuernavaca')"
   ]
  },
  {
   "cell_type": "markdown",
   "id": "f37630db-5580-43af-9ff2-500ff3bf5791",
   "metadata": {},
   "source": [
    "### Parte b) ¿Cuántas líneas telefónicas pertenecen a la zona 326?\n",
    "Si los tres primeros dígitos representan una zona específica (en este caso, la zona 326),  \n",
    "entonces los cuatro últimos dígitos pueden ser cualquier combinación de números del 0 al 9.\n",
    "Para calcular el número de líneas telefónicas en la zona 326:  \n",
    "\n",
    "- El prefijo de zona 326 ya está fijo.  \n",
    "- Los cuatro últimos dígitos tienen 10 opciones cada uno.  \n",
    "- Entonces, el número de líneas telefónicas en la zona 326 n se calcula como:\n",
    "\n",
    "$$ \n",
    "\\begin{gather*} \n",
    "    n = 10^4\\\\\n",
    "    \\boxed{n = 10000}\n",
    "\\end{gather*}\n",
    "$$\n",
    "\n",
    "Donde:  \n",
    "\n",
    "- $10^4$ representa las combinaciones posibles para los cuatro últimos dígitos.\n",
    "\n",
    "Entonces: \n",
    "- $10000$ líneas telefónicas pertenecen a la zona 326"
   ]
  },
  {
   "cell_type": "code",
   "execution_count": 2,
   "id": "e6e3f48c-46ed-4794-9911-a7f836a7984c",
   "metadata": {},
   "outputs": [
    {
     "name": "stdout",
     "output_type": "stream",
     "text": [
      "En total, hay 10000 lineas que pertenecen a la zona 326\n"
     ]
    }
   ],
   "source": [
    "# Implementación de la solucion del inciso b del ejercicio 9\n",
    "import math\n",
    "\n",
    "n = 10 ** 4\n",
    "print(f'En total, hay {n} lineas que pertenecen a la zona 326')"
   ]
  },
  {
   "cell_type": "code",
   "execution_count": null,
   "id": "c3c659c5-d427-4ca6-838a-51b5e13d4833",
   "metadata": {},
   "outputs": [],
   "source": []
  }
 ],
 "metadata": {
  "kernelspec": {
   "display_name": "Python 3 (ipykernel)",
   "language": "python",
   "name": "python3"
  },
  "language_info": {
   "codemirror_mode": {
    "name": "ipython",
    "version": 3
   },
   "file_extension": ".py",
   "mimetype": "text/x-python",
   "name": "python",
   "nbconvert_exporter": "python",
   "pygments_lexer": "ipython3",
   "version": "3.10.7"
  }
 },
 "nbformat": 4,
 "nbformat_minor": 5
}
