{
 "cells": [
  {
   "cell_type": "markdown",
   "id": "39a326ff-19f8-4148-bc4b-5946526a19a9",
   "metadata": {},
   "source": [
    "# Ejercicio 10\n",
    "\n",
    "**Sólo para practicar.** Se tiene la palabra MURCIÉLAGO. Si no se permiten repeticiones al usar\n",
    "las letras que la forman, determina:\n",
    "\n",
    "\n",
    "**a) El número de palabras que puedes crear.**\n",
    "\n",
    "**b) El número de palabras con cinco letras.**\n",
    "\n",
    "**c) La probabilidad de que una palabra de cinco letras termine en vocal.**"
   ]
  },
  {
   "cell_type": "markdown",
   "id": "64e28deb-3883-4370-9649-8abdd3d7aa73",
   "metadata": {},
   "source": [
    "### a) Número de palabras que puedes crear  \n",
    "La palabra dada es \"MURCIÉLAGO\". Contamos con 10 letras diferentes. Si no se permiten repeticiones, el número total de palabras posibles se puede calcular usando el factorial del número de letras en \"MURCIÉLAGO\", o sea, 10.\n",
    "\n",
    "1. Calcular el factorial de la longitud de \"MURCIÉLAGO\":\n",
    "    - La longitud de \"MURCIÉLAGO\" es 10.\n",
    "$$\n",
    "\\begin{gather*}\n",
    "    n = 10! \\\\\n",
    "    n = 10 \\times 9 \\times 8 \\times 7 \\times 6 \\times 5 \\times 4 \\times 3 \\times 2 \\times 1\\\\\n",
    "    \\boxed{n = 3628800}\n",
    "\\end{gather*}\n",
    "$$    \n",
    "    - Por lo tanto, el número de palabras posibles es $3628800$."
   ]
  },
  {
   "cell_type": "code",
   "execution_count": 1,
   "id": "0d91b44a-2854-4279-8375-f36750eca7b6",
   "metadata": {},
   "outputs": [
    {
     "name": "stdout",
     "output_type": "stream",
     "text": [
      "En total, se pueden crear 3628800 palabras\n"
     ]
    }
   ],
   "source": [
    "# Implementación de la solucion del inciso a del ejercicio 10\n",
    "from math import factorial\n",
    "\n",
    "palOrig = \"MURCIÉLAGO\"\n",
    "res_a = factorial(len(palOrig))\n",
    "print(f'En total, se pueden crear {res_a} palabras')"
   ]
  },
  {
   "cell_type": "code",
   "execution_count": null,
   "id": "ed9b8d6b-72df-4e82-bb17-d0636fcc1047",
   "metadata": {},
   "outputs": [],
   "source": []
  }
 ],
 "metadata": {
  "kernelspec": {
   "display_name": "Python 3 (ipykernel)",
   "language": "python",
   "name": "python3"
  },
  "language_info": {
   "codemirror_mode": {
    "name": "ipython",
    "version": 3
   },
   "file_extension": ".py",
   "mimetype": "text/x-python",
   "name": "python",
   "nbconvert_exporter": "python",
   "pygments_lexer": "ipython3",
   "version": "3.10.7"
  }
 },
 "nbformat": 4,
 "nbformat_minor": 5
}
