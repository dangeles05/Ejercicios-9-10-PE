{
 "cells": [
  {
   "cell_type": "markdown",
   "id": "39a326ff-19f8-4148-bc4b-5946526a19a9",
   "metadata": {},
   "source": [
    "# Ejercicio 10\n",
    "\n",
    "**Sólo para practicar.** Se tiene la palabra MURCIÉLAGO. Si no se permiten repeticiones al usar\n",
    "las letras que la forman, determina:\n",
    "\n",
    "\n",
    "**a) El número de palabras que puedes crear.**\n",
    "\n",
    "**b) El número de palabras con cinco letras.**\n",
    "\n",
    "**c) La probabilidad de que una palabra de cinco letras termine en vocal.**"
   ]
  },
  {
   "cell_type": "markdown",
   "id": "64e28deb-3883-4370-9649-8abdd3d7aa73",
   "metadata": {},
   "source": [
    "### a) Número de palabras que puedes crear  \n",
    "La palabra dada es \"MURCIÉLAGO\". Contamos con 10 letras diferentes. Si no se permiten repeticiones, el número total de palabras posibles se puede calcular usando el factorial del número de letras en \"MURCIÉLAGO\", o sea, 10.\n",
    "\n",
    "1. Calcular el factorial de la longitud de \"MURCIÉLAGO\":\n",
    "    - La longitud de \"MURCIÉLAGO\" es 10.\n",
    "$$\n",
    "\\begin{gather*}\n",
    "    n = 10! \\\\\n",
    "    n = 10 \\times 9 \\times 8 \\times 7 \\times 6 \\times 5 \\times 4 \\times 3 \\times 2 \\times 1\\\\\n",
    "    \\boxed{n = 3628800}\n",
    "\\end{gather*}\n",
    "$$    \n",
    "    - Por lo tanto, el número de palabras posibles es $3628800$."
   ]
  },
  {
   "cell_type": "code",
   "execution_count": 1,
   "id": "0d91b44a-2854-4279-8375-f36750eca7b6",
   "metadata": {},
   "outputs": [
    {
     "name": "stdout",
     "output_type": "stream",
     "text": [
      "En total, se pueden crear 3628800 palabras\n"
     ]
    }
   ],
   "source": [
    "# Implementación de la solucion del inciso a del ejercicio 10\n",
    "from math import factorial\n",
    "\n",
    "palOrig = \"MURCIÉLAGO\"\n",
    "res_a = factorial(len(palOrig))\n",
    "print(f'En total, se pueden crear {res_a} palabras')"
   ]
  },
  {
   "cell_type": "markdown",
   "id": "6b74e313-5b6e-498b-9ab4-bf1371a9fde0",
   "metadata": {},
   "source": [
    "### b) Número de palabras con cinco letras  \n",
    "Para este inciso, necesitamos contar cuántas palabras diferentes de cinco letras podemos formar con las letras de \"MURCIÉLAGO\".\n",
    "\n",
    "2. Calcular el número de combinaciones de 10 letras tomadas de a 5 sin repetición:\n",
    "    - Esto se calcula utilizando la formula de permutaciones:\n",
    "$$\n",
    "\\begin{align*}\n",
    "    _nP_r &= \\dfrac{n!}{(n - r)!} \\\\\n",
    "    _{10}P_5 &= \\dfrac{10!}{(10 - 5)!} \\\\\n",
    "    _{10}P_5 &= \\dfrac{10!}{5!} = \\dfrac{3628800}{120} \\\\\n",
    "    \\Aboxed{_{10}P_5 &= 30240}\n",
    "\\end{align*}\n",
    "$$ \n",
    "\n",
    "    - Donde descubrimos que se pueden formar $30240$ palabras con cinco letras"
   ]
  },
  {
   "cell_type": "code",
   "execution_count": 2,
   "id": "ee4f4262-45a8-45a8-98e1-a8cac1d19c35",
   "metadata": {},
   "outputs": [
    {
     "name": "stdout",
     "output_type": "stream",
     "text": [
      "En total, se pueden crear 30240 palabras con cinco letras\n"
     ]
    }
   ],
   "source": [
    "# Implementación de la solución del inciso b del ejercicio 10\n",
    "combinaciones_b = factorial(len(palOrig)) // factorial(len(palOrig) - 5)\n",
    "print(f'En total, se pueden crear {combinaciones_b} palabras con cinco letras')"
   ]
  },
  {
   "cell_type": "code",
   "execution_count": null,
   "id": "16468648-2141-4208-8936-869018d38ac3",
   "metadata": {},
   "outputs": [],
   "source": []
  }
 ],
 "metadata": {
  "kernelspec": {
   "display_name": "Python 3 (ipykernel)",
   "language": "python",
   "name": "python3"
  },
  "language_info": {
   "codemirror_mode": {
    "name": "ipython",
    "version": 3
   },
   "file_extension": ".py",
   "mimetype": "text/x-python",
   "name": "python",
   "nbconvert_exporter": "python",
   "pygments_lexer": "ipython3",
   "version": "3.10.7"
  }
 },
 "nbformat": 4,
 "nbformat_minor": 5
}
